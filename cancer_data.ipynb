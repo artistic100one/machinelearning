{
 "cells": [
  {
   "cell_type": "code",
   "execution_count": 29,
   "metadata": {},
   "outputs": [
    {
     "data": {
      "text/plain": [
       "RandomForestClassifier(bootstrap=True, ccp_alpha=0.0, class_weight=None,\n",
       "                       criterion='gini', max_depth=None, max_features='auto',\n",
       "                       max_leaf_nodes=None, max_samples=None,\n",
       "                       min_impurity_decrease=0.0, min_impurity_split=None,\n",
       "                       min_samples_leaf=1, min_samples_split=2,\n",
       "                       min_weight_fraction_leaf=0.0, n_estimators=5,\n",
       "                       n_jobs=None, oob_score=False, random_state=2, verbose=0,\n",
       "                       warm_start=False)"
      ]
     },
     "execution_count": 29,
     "metadata": {},
     "output_type": "execute_result"
    }
   ],
   "source": [
    "import numpy as np\n",
    "import matplotlib.pyplot as plt\n",
    "import mglearn\n",
    "\n",
    "\n",
    "from sklearn.model_selection import *\n",
    "from sklearn.ensemble import RandomForestClassifier\n",
    "from sklearn.datasets import make_moons\n",
    "from sklearn.model_selection import cross_val_score\n",
    "from sklearn.tree import DecisionTreeClassifier\n",
    "from sklearn.datasets import load_breast_cancer\n",
    "\n",
    "\n",
    "cancer = load_breast_cancer()\n",
    "X, y = make_moons(n_samples=100, noise=0.25, random_state=3)\n",
    "X_train, X_test, y_train, y_test = train_test_split(X, y, stratify=y, random_state=42)\n",
    "\n",
    "forest = RandomForestClassifier(n_estimators=5, random_state=2)\n",
    "forest.fit(X_train, y_train)"
   ]
  },
  {
   "cell_type": "code",
   "execution_count": 2,
   "metadata": {},
   "outputs": [
    {
     "name": "stdout",
     "output_type": "stream",
     "text": [
      "테스트 세트 정확도: 0.920\n",
      "\n",
      "테스트 세트 정확도 CV = 5: 0.860\n",
      "\n",
      "테스트 세트 정확도 CV = 10: 0.840\n",
      "\n"
     ]
    }
   ],
   "source": [
    "forest = RandomForestClassifier(n_estimators=5, random_state=2)\n",
    "forest.fit(X_train, y_train)\n",
    "print(\"테스트 세트 정확도: {:.3f}\\n\".format(forest.score(X_test, y_test)))\n",
    "\n",
    "cvscores = cross_val_score(forest, X, y, cv=5)\n",
    "print(\"테스트 세트 정확도 CV = 5: {:.3f}\\n\".format(cvscores.mean() ))\n",
    "\n",
    "cvscores = cross_val_score(forest, X, y, cv=10)\n",
    "print(\"테스트 세트 정확도 CV = 10: {:.3f}\\n\".format(cvscores.mean() ))"
   ]
  },
  {
   "cell_type": "code",
   "execution_count": 5,
   "metadata": {},
   "outputs": [
    {
     "name": "stdout",
     "output_type": "stream",
     "text": [
      "테스트 세트 정확도: 0.880\n",
      "\n",
      "테스트 세트 정확도 CV = 5: 0.860\n",
      "\n",
      "테스트 세트 정확도 CV = 10: 0.850\n",
      "\n"
     ]
    }
   ],
   "source": [
    "from sklearn.model_selection import cross_val_score\n",
    "from sklearn.tree import DecisionTreeClassifier\n",
    "\n",
    "X, y = make_moons(n_samples=100, noise=0.25, random_state=3)\n",
    "X_train, X_test, y_train, y_test = train_test_split(X, y, stratify=y, random_state=42)\n",
    "dt = DecisionTreeClassifier(max_depth=None, min_samples_split=2, random_state=0)\n",
    "dt.fit(X_train, y_train)\n",
    "print(\"테스트 세트 정확도: {:.3f}\\n\".format(dt.score(X_test, y_test)))\n",
    "\n",
    "cvscores = cross_val_score(dt, X, y, cv=5)\n",
    "print(\"테스트 세트 정확도 CV = 5: {:.3f}\\n\".format(cvscores.mean() ))\n",
    "\n",
    "cvscores = cross_val_score(dt, X, y, cv=10)\n",
    "print(\"테스트 세트 정확도 CV = 10: {:.3f}\\n\".format(cvscores.mean() ))"
   ]
  },
  {
   "cell_type": "code",
   "execution_count": 14,
   "metadata": {},
   "outputs": [
    {
     "name": "stdout",
     "output_type": "stream",
     "text": [
      "훈련 세트 정확도: 1.000\n",
      "테스트 세트 정확도: 0.972\n",
      "테스트 세트 정확도 CV = 10: 0.910\n",
      "\n",
      "[1.  1.  0.8 0.9 1.  1.  0.7 1.  0.9 0.8]\n"
     ]
    }
   ],
   "source": [
    "from sklearn.datasets import load_breast_cancer\n",
    "\n",
    "X_train, X_test, y_train, y_test = train_test_split(\n",
    "    cancer.data, cancer.target, random_state=0)\n",
    "forest = RandomForestClassifier(n_estimators=100, random_state=0)\n",
    "forest.fit(X_train, y_train)\n",
    "\n",
    "print(\"훈련 세트 정확도: {:.3f}\".format(forest.score(X_train, y_train)))\n",
    "print(\"테스트 세트 정확도: {:.3f}\".format(forest.score(X_test, y_test)))\n",
    "\n",
    "cvscores = cross_val_score(forest, X, y, cv=10)\n",
    "print(\"테스트 세트 정확도 CV = 10: {:.3f}\\n\".format(cvscores.mean() ))\n",
    "print(cvscores)"
   ]
  },
  {
   "cell_type": "code",
   "execution_count": 18,
   "metadata": {},
   "outputs": [
    {
     "name": "stdout",
     "output_type": "stream",
     "text": [
      "훈련 세트 정확도: 1.000\n",
      "테스트 세트 정확도: 0.965\n"
     ]
    }
   ],
   "source": [
    "from sklearn.ensemble import GradientBoostingClassifier\n",
    "\n",
    "X_train, X_test, y_train, y_test = train_test_split(\n",
    "    cancer.data, cancer.target, random_state=0)\n",
    "\n",
    "gbrt = GradientBoostingClassifier(random_state=0)\n",
    "gbrt.fit(X_train, y_train)\n",
    "\n",
    "print(\"훈련 세트 정확도: {:.3f}\".format(gbrt.score(X_train, y_train)))\n",
    "print(\"테스트 세트 정확도: {:.3f}\".format(gbrt.score(X_test, y_test)))      "
   ]
  },
  {
   "cell_type": "code",
   "execution_count": 20,
   "metadata": {},
   "outputs": [
    {
     "name": "stdout",
     "output_type": "stream",
     "text": [
      "테스트 세트 정확도 CV = 10: 0.890\n",
      "\n",
      "테스트 세트 정확도 CV = 5: 0.850\n",
      "\n"
     ]
    }
   ],
   "source": [
    "cvscores = cross_val_score(gbrt, X, y, cv=10)\n",
    "print(\"테스트 세트 정확도 CV = 10: {:.3f}\\n\".format(cvscores.mean() ))\n",
    "\n",
    "cvscores = cross_val_score(gbrt, X, y, cv=5)\n",
    "print(\"테스트 세트 정확도 CV = 5: {:.3f}\\n\".format(cvscores.mean()))"
   ]
  },
  {
   "cell_type": "code",
   "execution_count": 24,
   "metadata": {},
   "outputs": [
    {
     "name": "stdout",
     "output_type": "stream",
     "text": [
      "훈련 세트 정확도: 0.991\n",
      "테스트 세트 정확도: 0.972\n",
      "테스트 세트 정확도 CV = 10: 0.890\n",
      "테스트 세트 정확도 CV = 5: 0.870\n"
     ]
    }
   ],
   "source": [
    "gbrt = GradientBoostingClassifier(random_state=0, max_depth=1)\n",
    "gbrt.fit(X_train, y_train)\n",
    "\n",
    "print(\"훈련 세트 정확도: {:.3f}\".format(gbrt.score(X_train, y_train)))\n",
    "print(\"테스트 세트 정확도: {:.3f}\".format(gbrt.score(X_test, y_test)))\n",
    "cvscores = cross_val_score(gbrt, X, y, cv=10)\n",
    "print(\"테스트 세트 정확도 CV = 10: {:.3f}\".format(cvscores.mean() ))\n",
    "cvscores = cross_val_score(gbrt, X, y, cv=5)\n",
    "print(\"테스트 세트 정확도 CV = 5: {:.3f}\".format(cvscores.mean() ))"
   ]
  },
  {
   "cell_type": "code",
   "execution_count": 25,
   "metadata": {},
   "outputs": [
    {
     "name": "stdout",
     "output_type": "stream",
     "text": [
      "훈련 세트 정확도: 0.988\n",
      "테스트 세트 정확도: 0.965\n",
      "테스트 세트 정확도: 0.870\n",
      "테스트 세트 정확도: 0.860\n"
     ]
    }
   ],
   "source": [
    "gbrt = GradientBoostingClassifier(random_state=0, learning_rate=0.01)\n",
    "gbrt.fit(X_train, y_train)\n",
    "\n",
    "print(\"훈련 세트 정확도: {:.3f}\".format(gbrt.score(X_train, y_train)))\n",
    "print(\"테스트 세트 정확도: {:.3f}\".format(gbrt.score(X_test, y_test)))\n",
    "cvscores = cross_val_score(gbrt, X, y, cv=10)\n",
    "print(\"테스트 세트 정확도: {:.3f}\".format(cvscores.mean() ))\n",
    "cvscores = cross_val_score(gbrt, X, y, cv=5)\n",
    "print(\"테스트 세트 정확도: {:.3f}\".format(cvscores.mean() ))"
   ]
  },
  {
   "cell_type": "code",
   "execution_count": 27,
   "metadata": {},
   "outputs": [
    {
     "data": {
      "image/png": "[encoded data removed]",
      "text/plain": [
       "<Figure size 432x288 with 1 Axes>"
      ]
     },
     "metadata": {
      "needs_background": "light"
     },
     "output_type": "display_data"
    }
   ],
   "source": [
    "gbrt = GradientBoostingClassifier(random_state=0, max_depth=1)\n",
    "gbrt.fit(X_train, y_train)\n",
    "\n",
    "def plot_feature_importances_cancer(model):\n",
    "\n",
    "    n_features = cancer.data.shape[1]\n",
    "\n",
    "    plt.barh(range(n_features), model.feature_importances_, align='center')\n",
    "\n",
    "    plt.yticks(np.arange(n_features), cancer.feature_names)\n",
    "\n",
    "    plt.xlabel(\"attr importances\")\n",
    "\n",
    "    plt.ylabel(\"attr\")\n",
    "\n",
    "    plt.ylim(-1, n_features)\n",
    "\n",
    "plt.show()\n",
    "\n",
    "plot_feature_importances_cancer(gbrt)"
   ]
  },
  {
   "cell_type": "code",
   "execution_count": 28,
   "metadata": {},
   "outputs": [
    {
     "data": {
      "image/png": "[encoded data removed]",
      "text/plain": [
       "<Figure size 432x288 with 1 Axes>"
      ]
     },
     "metadata": {
      "needs_background": "light"
     },
     "output_type": "display_data"
    }
   ],
   "source": [
    "plot_feature_importances_cancer(forest)"
   ]
  },
  {
   "cell_type": "code",
   "execution_count": null,
   "metadata": {},
   "outputs": [],
   "source": []
  }
 ],
 "metadata": {
  "kernelspec": {
   "display_name": "Python 3",
   "language": "python",
   "name": "python3"
  },
  "language_info": {
   "codemirror_mode": {
    "name": "ipython",
    "version": 3
   },
   "file_extension": ".py",
   "mimetype": "text/x-python",
   "name": "python",
   "nbconvert_exporter": "python",
   "pygments_lexer": "ipython3",
   "version": "3.7.6"
  }
 },
 "nbformat": 4,
 "nbformat_minor": 4
}
