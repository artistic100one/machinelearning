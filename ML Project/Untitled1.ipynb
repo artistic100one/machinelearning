{
 "cells": [
  {
   "cell_type": "code",
   "execution_count": 2,
   "id": "b7b8c75e",
   "metadata": {},
   "outputs": [],
   "source": [
    "from sklearn.svm import SVR\n",
    "import numpy as np\n",
    "import pandas as pd\n",
    "import matplotlib.pyplot as plt\n",
    "from pandas_datareader import data as pdr"
   ]
  },
  {
   "cell_type": "code",
   "execution_count": 3,
   "id": "ee92926d",
   "metadata": {},
   "outputs": [
    {
     "data": {
      "text/html": [
       "<div>\n",
       "<style scoped>\n",
       "    .dataframe tbody tr th:only-of-type {\n",
       "        vertical-align: middle;\n",
       "    }\n",
       "\n",
       "    .dataframe tbody tr th {\n",
       "        vertical-align: top;\n",
       "    }\n",
       "\n",
       "    .dataframe thead th {\n",
       "        text-align: right;\n",
       "    }\n",
       "</style>\n",
       "<table border=\"1\" class=\"dataframe\">\n",
       "  <thead>\n",
       "    <tr style=\"text-align: right;\">\n",
       "      <th></th>\n",
       "      <th>High</th>\n",
       "      <th>Low</th>\n",
       "      <th>Open</th>\n",
       "      <th>Close</th>\n",
       "      <th>Volume</th>\n",
       "      <th>Adj Close</th>\n",
       "    </tr>\n",
       "    <tr>\n",
       "      <th>Date</th>\n",
       "      <th></th>\n",
       "      <th></th>\n",
       "      <th></th>\n",
       "      <th></th>\n",
       "      <th></th>\n",
       "      <th></th>\n",
       "    </tr>\n",
       "  </thead>\n",
       "  <tbody>\n",
       "    <tr>\n",
       "      <th>2021-02-15</th>\n",
       "      <td>33300.0</td>\n",
       "      <td>32700.0</td>\n",
       "      <td>33250.0</td>\n",
       "      <td>32800.0</td>\n",
       "      <td>1640605.0</td>\n",
       "      <td>32800.0</td>\n",
       "    </tr>\n",
       "    <tr>\n",
       "      <th>2021-02-16</th>\n",
       "      <td>33000.0</td>\n",
       "      <td>32500.0</td>\n",
       "      <td>32650.0</td>\n",
       "      <td>32850.0</td>\n",
       "      <td>1132192.0</td>\n",
       "      <td>32850.0</td>\n",
       "    </tr>\n",
       "    <tr>\n",
       "      <th>2021-02-17</th>\n",
       "      <td>33500.0</td>\n",
       "      <td>32800.0</td>\n",
       "      <td>33050.0</td>\n",
       "      <td>32900.0</td>\n",
       "      <td>2361643.0</td>\n",
       "      <td>32900.0</td>\n",
       "    </tr>\n",
       "    <tr>\n",
       "      <th>2021-02-18</th>\n",
       "      <td>33050.0</td>\n",
       "      <td>32250.0</td>\n",
       "      <td>33000.0</td>\n",
       "      <td>32250.0</td>\n",
       "      <td>1374986.0</td>\n",
       "      <td>32250.0</td>\n",
       "    </tr>\n",
       "    <tr>\n",
       "      <th>2021-02-19</th>\n",
       "      <td>32750.0</td>\n",
       "      <td>31950.0</td>\n",
       "      <td>32300.0</td>\n",
       "      <td>32650.0</td>\n",
       "      <td>1580642.0</td>\n",
       "      <td>32650.0</td>\n",
       "    </tr>\n",
       "    <tr>\n",
       "      <th>...</th>\n",
       "      <td>...</td>\n",
       "      <td>...</td>\n",
       "      <td>...</td>\n",
       "      <td>...</td>\n",
       "      <td>...</td>\n",
       "      <td>...</td>\n",
       "    </tr>\n",
       "    <tr>\n",
       "      <th>2021-05-21</th>\n",
       "      <td>41000.0</td>\n",
       "      <td>40100.0</td>\n",
       "      <td>40650.0</td>\n",
       "      <td>40300.0</td>\n",
       "      <td>1430247.0</td>\n",
       "      <td>40300.0</td>\n",
       "    </tr>\n",
       "    <tr>\n",
       "      <th>2021-05-24</th>\n",
       "      <td>41250.0</td>\n",
       "      <td>40100.0</td>\n",
       "      <td>40500.0</td>\n",
       "      <td>41000.0</td>\n",
       "      <td>1325257.0</td>\n",
       "      <td>41000.0</td>\n",
       "    </tr>\n",
       "    <tr>\n",
       "      <th>2021-05-25</th>\n",
       "      <td>41900.0</td>\n",
       "      <td>40900.0</td>\n",
       "      <td>40900.0</td>\n",
       "      <td>41900.0</td>\n",
       "      <td>1495483.0</td>\n",
       "      <td>41900.0</td>\n",
       "    </tr>\n",
       "    <tr>\n",
       "      <th>2021-05-26</th>\n",
       "      <td>41900.0</td>\n",
       "      <td>41450.0</td>\n",
       "      <td>41750.0</td>\n",
       "      <td>41750.0</td>\n",
       "      <td>1124493.0</td>\n",
       "      <td>41750.0</td>\n",
       "    </tr>\n",
       "    <tr>\n",
       "      <th>2021-05-27</th>\n",
       "      <td>42350.0</td>\n",
       "      <td>41300.0</td>\n",
       "      <td>42000.0</td>\n",
       "      <td>41500.0</td>\n",
       "      <td>2634662.0</td>\n",
       "      <td>41500.0</td>\n",
       "    </tr>\n",
       "  </tbody>\n",
       "</table>\n",
       "<p>71 rows × 6 columns</p>\n",
       "</div>"
      ],
      "text/plain": [
       "               High      Low     Open    Close     Volume  Adj Close\n",
       "Date                                                                \n",
       "2021-02-15  33300.0  32700.0  33250.0  32800.0  1640605.0    32800.0\n",
       "2021-02-16  33000.0  32500.0  32650.0  32850.0  1132192.0    32850.0\n",
       "2021-02-17  33500.0  32800.0  33050.0  32900.0  2361643.0    32900.0\n",
       "2021-02-18  33050.0  32250.0  33000.0  32250.0  1374986.0    32250.0\n",
       "2021-02-19  32750.0  31950.0  32300.0  32650.0  1580642.0    32650.0\n",
       "...             ...      ...      ...      ...        ...        ...\n",
       "2021-05-21  41000.0  40100.0  40650.0  40300.0  1430247.0    40300.0\n",
       "2021-05-24  41250.0  40100.0  40500.0  41000.0  1325257.0    41000.0\n",
       "2021-05-25  41900.0  40900.0  40900.0  41900.0  1495483.0    41900.0\n",
       "2021-05-26  41900.0  41450.0  41750.0  41750.0  1124493.0    41750.0\n",
       "2021-05-27  42350.0  41300.0  42000.0  41500.0  2634662.0    41500.0\n",
       "\n",
       "[71 rows x 6 columns]"
      ]
     },
     "execution_count": 3,
     "metadata": {},
     "output_type": "execute_result"
    }
   ],
   "source": [
    "stock_data = pdr.get_data_yahoo('055550.KS')\n",
    "stock_data_1 = stock_data.tail(len(stock_data)-1150)\n",
    "stock_data_1"
   ]
  },
  {
   "cell_type": "code",
   "execution_count": 4,
   "id": "c027c13e",
   "metadata": {},
   "outputs": [],
   "source": [
    "stock_data_2 = stock_data_1.head(len(stock_data_1)-1)"
   ]
  },
  {
   "cell_type": "code",
   "execution_count": 5,
   "id": "360f840b",
   "metadata": {},
   "outputs": [],
   "source": [
    "stock_data_adj_close = stock_data_2['Adj Close']\n",
    "stock_data_adj_close = stock_data_adj_close.values"
   ]
  },
  {
   "cell_type": "code",
   "execution_count": 6,
   "id": "2d65a73e",
   "metadata": {},
   "outputs": [],
   "source": [
    "days = []\n",
    "j = 1\n",
    "for j in range(len(stock_data_2)):\n",
    "    days.append([int(j+1)])\n",
    "    j=j+1"
   ]
  },
  {
   "cell_type": "code",
   "execution_count": 7,
   "id": "25fd66be",
   "metadata": {},
   "outputs": [
    {
     "data": {
      "text/plain": [
       "SVR(C=1000, cache_size=200, coef0=0.0, degree=3, epsilon=0.1, gamma=0.05,\n",
       "    kernel='poly', max_iter=-1, shrinking=True, tol=0.001, verbose=False)"
      ]
     },
     "execution_count": 7,
     "metadata": {},
     "output_type": "execute_result"
    }
   ],
   "source": [
    "lin_svr = SVR(kernel = 'linear', C = 1000)\n",
    "lin_svr.fit(days, stock_data_adj_close)\n",
    "\n",
    "poly_svr = SVR(kernel = 'poly', C = 1000, degree=2)\n",
    "poly_svr.fit(days, stock_data_adj_close)\n",
    "\n",
    "rbf_svr = SVR(kernel = 'poly', C = 1000, gamma=0.05)\n",
    "rbf_svr.fit(days, stock_data_adj_close)"
   ]
  },
  {
   "cell_type": "code",
   "execution_count": 8,
   "id": "80342a5b",
   "metadata": {},
   "outputs": [
    {
     "name": "stdout",
     "output_type": "stream",
     "text": [
      "The RBF SVR Predicted Price : [43815.29742458]\n",
      "The Polynormial SVR Predicted Price : [42615.56303066]\n",
      "The Linear SVR Predicted Price : [41885.4]\n"
     ]
    }
   ],
   "source": [
    "day = [[len(days)+1]]\n",
    "print('The RBF SVR Predicted Price :', rbf_svr.predict(day))\n",
    "print('The Polynormial SVR Predicted Price :', poly_svr.predict(day))\n",
    "print('The Linear SVR Predicted Price :', lin_svr.predict(day))"
   ]
  },
  {
   "cell_type": "code",
   "execution_count": null,
   "id": "b002c741",
   "metadata": {},
   "outputs": [],
   "source": []
  }
 ],
 "metadata": {
  "kernelspec": {
   "display_name": "Python 3",
   "language": "python",
   "name": "python3"
  },
  "language_info": {
   "codemirror_mode": {
    "name": "ipython",
    "version": 3
   },
   "file_extension": ".py",
   "mimetype": "text/x-python",
   "name": "python",
   "nbconvert_exporter": "python",
   "pygments_lexer": "ipython3",
   "version": "3.7.6"
  }
 },
 "nbformat": 4,
 "nbformat_minor": 5
}
